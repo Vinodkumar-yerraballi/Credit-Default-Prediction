{
 "cells": [
  {
   "cell_type": "code",
   "execution_count": 1,
   "id": "b74f91cb",
   "metadata": {},
   "outputs": [],
   "source": [
    "import numpy as np\n",
    "import pandas as pd\n",
    "import matplotlib.pyplot as plt\n",
    "import seaborn as sns\n",
    "import warnings\n",
    "warnings.filterwarnings(\"ignore\")\n",
    "%matplotlib inline"
   ]
  },
  {
   "cell_type": "code",
   "execution_count": 2,
   "id": "8c951cd3",
   "metadata": {},
   "outputs": [],
   "source": [
    "df=pd.read_csv('/home/vinod/Downloads/credit-card-default.csv')"
   ]
  },
  {
   "cell_type": "code",
   "execution_count": 3,
   "id": "bd6b7381",
   "metadata": {},
   "outputs": [
    {
     "data": {
      "text/html": [
       "<div>\n",
       "<style scoped>\n",
       "    .dataframe tbody tr th:only-of-type {\n",
       "        vertical-align: middle;\n",
       "    }\n",
       "\n",
       "    .dataframe tbody tr th {\n",
       "        vertical-align: top;\n",
       "    }\n",
       "\n",
       "    .dataframe thead th {\n",
       "        text-align: right;\n",
       "    }\n",
       "</style>\n",
       "<table border=\"1\" class=\"dataframe\">\n",
       "  <thead>\n",
       "    <tr style=\"text-align: right;\">\n",
       "      <th></th>\n",
       "      <th>ID</th>\n",
       "      <th>LIMIT_BAL</th>\n",
       "      <th>SEX</th>\n",
       "      <th>EDUCATION</th>\n",
       "      <th>MARRIAGE</th>\n",
       "      <th>AGE</th>\n",
       "      <th>PAY_0</th>\n",
       "      <th>PAY_2</th>\n",
       "      <th>PAY_3</th>\n",
       "      <th>PAY_4</th>\n",
       "      <th>...</th>\n",
       "      <th>BILL_AMT4</th>\n",
       "      <th>BILL_AMT5</th>\n",
       "      <th>BILL_AMT6</th>\n",
       "      <th>PAY_AMT1</th>\n",
       "      <th>PAY_AMT2</th>\n",
       "      <th>PAY_AMT3</th>\n",
       "      <th>PAY_AMT4</th>\n",
       "      <th>PAY_AMT5</th>\n",
       "      <th>PAY_AMT6</th>\n",
       "      <th>defaulted</th>\n",
       "    </tr>\n",
       "  </thead>\n",
       "  <tbody>\n",
       "    <tr>\n",
       "      <th>0</th>\n",
       "      <td>1</td>\n",
       "      <td>20000</td>\n",
       "      <td>2</td>\n",
       "      <td>2</td>\n",
       "      <td>1</td>\n",
       "      <td>24</td>\n",
       "      <td>2</td>\n",
       "      <td>2</td>\n",
       "      <td>-1</td>\n",
       "      <td>-1</td>\n",
       "      <td>...</td>\n",
       "      <td>0</td>\n",
       "      <td>0</td>\n",
       "      <td>0</td>\n",
       "      <td>0</td>\n",
       "      <td>689</td>\n",
       "      <td>0</td>\n",
       "      <td>0</td>\n",
       "      <td>0</td>\n",
       "      <td>0</td>\n",
       "      <td>1</td>\n",
       "    </tr>\n",
       "    <tr>\n",
       "      <th>1</th>\n",
       "      <td>2</td>\n",
       "      <td>120000</td>\n",
       "      <td>2</td>\n",
       "      <td>2</td>\n",
       "      <td>2</td>\n",
       "      <td>26</td>\n",
       "      <td>-1</td>\n",
       "      <td>2</td>\n",
       "      <td>0</td>\n",
       "      <td>0</td>\n",
       "      <td>...</td>\n",
       "      <td>3272</td>\n",
       "      <td>3455</td>\n",
       "      <td>3261</td>\n",
       "      <td>0</td>\n",
       "      <td>1000</td>\n",
       "      <td>1000</td>\n",
       "      <td>1000</td>\n",
       "      <td>0</td>\n",
       "      <td>2000</td>\n",
       "      <td>1</td>\n",
       "    </tr>\n",
       "  </tbody>\n",
       "</table>\n",
       "<p>2 rows × 25 columns</p>\n",
       "</div>"
      ],
      "text/plain": [
       "   ID  LIMIT_BAL  SEX  EDUCATION  MARRIAGE  AGE  PAY_0  PAY_2  PAY_3  PAY_4  \\\n",
       "0   1      20000    2          2         1   24      2      2     -1     -1   \n",
       "1   2     120000    2          2         2   26     -1      2      0      0   \n",
       "\n",
       "   ...  BILL_AMT4  BILL_AMT5  BILL_AMT6  PAY_AMT1  PAY_AMT2  PAY_AMT3  \\\n",
       "0  ...          0          0          0         0       689         0   \n",
       "1  ...       3272       3455       3261         0      1000      1000   \n",
       "\n",
       "   PAY_AMT4  PAY_AMT5  PAY_AMT6  defaulted  \n",
       "0         0         0         0          1  \n",
       "1      1000         0      2000          1  \n",
       "\n",
       "[2 rows x 25 columns]"
      ]
     },
     "execution_count": 3,
     "metadata": {},
     "output_type": "execute_result"
    }
   ],
   "source": [
    "df.head(2)"
   ]
  },
  {
   "cell_type": "code",
   "execution_count": 4,
   "id": "ce83b72b",
   "metadata": {
    "scrolled": true
   },
   "outputs": [
    {
     "name": "stdout",
     "output_type": "stream",
     "text": [
      "<class 'pandas.core.frame.DataFrame'>\n",
      "RangeIndex: 30000 entries, 0 to 29999\n",
      "Data columns (total 25 columns):\n",
      " #   Column     Non-Null Count  Dtype\n",
      "---  ------     --------------  -----\n",
      " 0   ID         30000 non-null  int64\n",
      " 1   LIMIT_BAL  30000 non-null  int64\n",
      " 2   SEX        30000 non-null  int64\n",
      " 3   EDUCATION  30000 non-null  int64\n",
      " 4   MARRIAGE   30000 non-null  int64\n",
      " 5   AGE        30000 non-null  int64\n",
      " 6   PAY_0      30000 non-null  int64\n",
      " 7   PAY_2      30000 non-null  int64\n",
      " 8   PAY_3      30000 non-null  int64\n",
      " 9   PAY_4      30000 non-null  int64\n",
      " 10  PAY_5      30000 non-null  int64\n",
      " 11  PAY_6      30000 non-null  int64\n",
      " 12  BILL_AMT1  30000 non-null  int64\n",
      " 13  BILL_AMT2  30000 non-null  int64\n",
      " 14  BILL_AMT3  30000 non-null  int64\n",
      " 15  BILL_AMT4  30000 non-null  int64\n",
      " 16  BILL_AMT5  30000 non-null  int64\n",
      " 17  BILL_AMT6  30000 non-null  int64\n",
      " 18  PAY_AMT1   30000 non-null  int64\n",
      " 19  PAY_AMT2   30000 non-null  int64\n",
      " 20  PAY_AMT3   30000 non-null  int64\n",
      " 21  PAY_AMT4   30000 non-null  int64\n",
      " 22  PAY_AMT5   30000 non-null  int64\n",
      " 23  PAY_AMT6   30000 non-null  int64\n",
      " 24  defaulted  30000 non-null  int64\n",
      "dtypes: int64(25)\n",
      "memory usage: 5.7 MB\n"
     ]
    }
   ],
   "source": [
    "df.info()"
   ]
  },
  {
   "cell_type": "code",
   "execution_count": 5,
   "id": "4b1bac30",
   "metadata": {},
   "outputs": [],
   "source": [
    "from sklearn.model_selection import train_test_split"
   ]
  },
  {
   "cell_type": "code",
   "execution_count": 6,
   "id": "73ffed5d",
   "metadata": {
    "scrolled": true
   },
   "outputs": [
    {
     "data": {
      "text/plain": [
       "Index(['ID', 'LIMIT_BAL', 'SEX', 'EDUCATION', 'MARRIAGE', 'AGE', 'PAY_0',\n",
       "       'PAY_2', 'PAY_3', 'PAY_4', 'PAY_5', 'PAY_6', 'BILL_AMT1', 'BILL_AMT2',\n",
       "       'BILL_AMT3', 'BILL_AMT4', 'BILL_AMT5', 'BILL_AMT6', 'PAY_AMT1',\n",
       "       'PAY_AMT2', 'PAY_AMT3', 'PAY_AMT4', 'PAY_AMT5', 'PAY_AMT6',\n",
       "       'defaulted'],\n",
       "      dtype='object')"
      ]
     },
     "execution_count": 6,
     "metadata": {},
     "output_type": "execute_result"
    }
   ],
   "source": [
    "df.columns"
   ]
  },
  {
   "cell_type": "markdown",
   "id": "3773d45b",
   "metadata": {},
   "source": [
    "# The data divided into train and test"
   ]
  },
  {
   "cell_type": "code",
   "execution_count": 7,
   "id": "058b984a",
   "metadata": {},
   "outputs": [],
   "source": [
    "X=df[['ID', 'LIMIT_BAL', 'SEX', 'EDUCATION', 'MARRIAGE', 'AGE', 'PAY_0','PAY_2', 'PAY_3', 'PAY_4', 'PAY_5', 'PAY_6', 'BILL_AMT1', 'BILL_AMT2','BILL_AMT3', 'BILL_AMT4', 'BILL_AMT5', 'BILL_AMT6', 'PAY_AMT1','PAY_AMT2', 'PAY_AMT3', 'PAY_AMT4', 'PAY_AMT5', 'PAY_AMT6']]"
   ]
  },
  {
   "cell_type": "code",
   "execution_count": 8,
   "id": "7a1d5570",
   "metadata": {},
   "outputs": [],
   "source": [
    "y=df['defaulted']"
   ]
  },
  {
   "cell_type": "code",
   "execution_count": 9,
   "id": "4455262c",
   "metadata": {},
   "outputs": [],
   "source": [
    "X_train,X_test,y_train,y_test=train_test_split(X,y,test_size=0.3,random_state=10)"
   ]
  },
  {
   "cell_type": "markdown",
   "id": "64390578",
   "metadata": {},
   "source": [
    "# Import the simpleimputer and decisionclassifier and makepipeline"
   ]
  },
  {
   "cell_type": "code",
   "execution_count": 10,
   "id": "85b8a799",
   "metadata": {},
   "outputs": [],
   "source": [
    "from sklearn.impute import SimpleImputer\n",
    "from sklearn.tree import DecisionTreeClassifier\n",
    "from sklearn.pipeline import make_pipeline"
   ]
  },
  {
   "cell_type": "code",
   "execution_count": 11,
   "id": "84752ef0",
   "metadata": {},
   "outputs": [],
   "source": [
    "sm=SimpleImputer()\n",
    "dt=DecisionTreeClassifier(random_state=1)"
   ]
  },
  {
   "cell_type": "code",
   "execution_count": 12,
   "id": "855cd66b",
   "metadata": {},
   "outputs": [],
   "source": [
    "pipline=make_pipeline(sm,dt)"
   ]
  },
  {
   "cell_type": "code",
   "execution_count": 13,
   "id": "457a4a7b",
   "metadata": {},
   "outputs": [
    {
     "data": {
      "text/plain": [
       "Pipeline(steps=[('simpleimputer', SimpleImputer()),\n",
       "                ('decisiontreeclassifier',\n",
       "                 DecisionTreeClassifier(random_state=1))])"
      ]
     },
     "execution_count": 13,
     "metadata": {},
     "output_type": "execute_result"
    }
   ],
   "source": [
    "pipline"
   ]
  },
  {
   "cell_type": "code",
   "execution_count": 14,
   "id": "806b6198",
   "metadata": {},
   "outputs": [
    {
     "data": {
      "text/plain": [
       "Pipeline(steps=[('simpleimputer', SimpleImputer()),\n",
       "                ('decisiontreeclassifier',\n",
       "                 DecisionTreeClassifier(random_state=1))])"
      ]
     },
     "execution_count": 14,
     "metadata": {},
     "output_type": "execute_result"
    }
   ],
   "source": [
    "pipline.fit(X_train,y_train)"
   ]
  },
  {
   "cell_type": "code",
   "execution_count": 15,
   "id": "3089d5ba",
   "metadata": {},
   "outputs": [
    {
     "data": {
      "text/plain": [
       "0.7173333333333334"
      ]
     },
     "execution_count": 15,
     "metadata": {},
     "output_type": "execute_result"
    }
   ],
   "source": [
    "pipline.score(X_test,y_test)"
   ]
  },
  {
   "cell_type": "code",
   "execution_count": 16,
   "id": "4f835b35",
   "metadata": {},
   "outputs": [
    {
     "data": {
      "text/plain": [
       "1.0"
      ]
     },
     "execution_count": 16,
     "metadata": {},
     "output_type": "execute_result"
    }
   ],
   "source": [
    "pipline.score(X_train,y_train)"
   ]
  },
  {
   "cell_type": "markdown",
   "id": "6d022a42",
   "metadata": {},
   "source": [
    "# import the baggingclassifier"
   ]
  },
  {
   "cell_type": "code",
   "execution_count": 17,
   "id": "6b9192d4",
   "metadata": {},
   "outputs": [],
   "source": [
    "from sklearn.ensemble import BaggingClassifier"
   ]
  },
  {
   "cell_type": "code",
   "execution_count": 18,
   "id": "64e8509a",
   "metadata": {},
   "outputs": [],
   "source": [
    "bgclassifier =BaggingClassifier(base_estimator=pipline,random_state=1)"
   ]
  },
  {
   "cell_type": "code",
   "execution_count": 19,
   "id": "0c4aeb1d",
   "metadata": {},
   "outputs": [
    {
     "data": {
      "text/plain": [
       "BaggingClassifier(base_estimator=Pipeline(steps=[('simpleimputer',\n",
       "                                                  SimpleImputer()),\n",
       "                                                 ('decisiontreeclassifier',\n",
       "                                                  DecisionTreeClassifier(random_state=1))]),\n",
       "                  random_state=1)"
      ]
     },
     "execution_count": 19,
     "metadata": {},
     "output_type": "execute_result"
    }
   ],
   "source": [
    "bgclassifier.fit(X_train,y_train)"
   ]
  },
  {
   "cell_type": "markdown",
   "id": "86ed30bb",
   "metadata": {},
   "source": [
    "# Checking the  train and test model score"
   ]
  },
  {
   "cell_type": "code",
   "execution_count": 20,
   "id": "08652238",
   "metadata": {},
   "outputs": [
    {
     "data": {
      "text/plain": [
       "0.9819523809523809"
      ]
     },
     "execution_count": 20,
     "metadata": {},
     "output_type": "execute_result"
    }
   ],
   "source": [
    "bgclassifier.score(X_train,y_train)"
   ]
  },
  {
   "cell_type": "code",
   "execution_count": 21,
   "id": "392a4426",
   "metadata": {},
   "outputs": [
    {
     "data": {
      "text/plain": [
       "0.8021111111111111"
      ]
     },
     "execution_count": 21,
     "metadata": {},
     "output_type": "execute_result"
    }
   ],
   "source": [
    "bgclassifier.score(X_test,y_test)"
   ]
  },
  {
   "cell_type": "markdown",
   "id": "1ab43a1d",
   "metadata": {},
   "source": [
    "# import the gridsearchcv model with given parameters"
   ]
  },
  {
   "cell_type": "code",
   "execution_count": 22,
   "id": "1154bf79",
   "metadata": {},
   "outputs": [],
   "source": [
    "from sklearn.model_selection import GridSearchCV"
   ]
  },
  {
   "cell_type": "code",
   "execution_count": 23,
   "id": "1fe0552e",
   "metadata": {},
   "outputs": [],
   "source": [
    "rfc=GridSearchCV(estimator=BaggingClassifier(base_estimator=DecisionTreeClassifier(),random_state=1),param_grid={'base_estimator__max_depth': [1, 5, 10, 15, 20],'max_features': [1, 5, 10, 15, 20],'max_samples': [0.05, 0.1, 0.2, 0.5]},scoring='accuracy')\n"
   ]
  },
  {
   "cell_type": "code",
   "execution_count": 24,
   "id": "c59e58d9",
   "metadata": {},
   "outputs": [
    {
     "data": {
      "text/plain": [
       "GridSearchCV(estimator=BaggingClassifier(base_estimator=DecisionTreeClassifier(),\n",
       "                                         random_state=1),\n",
       "             param_grid={'base_estimator__max_depth': [1, 5, 10, 15, 20],\n",
       "                         'max_features': [1, 5, 10, 15, 20],\n",
       "                         'max_samples': [0.05, 0.1, 0.2, 0.5]},\n",
       "             scoring='accuracy')"
      ]
     },
     "execution_count": 24,
     "metadata": {},
     "output_type": "execute_result"
    }
   ],
   "source": [
    "rfc.fit(X_train,y_train)"
   ]
  },
  {
   "cell_type": "markdown",
   "id": "ed5705fb",
   "metadata": {},
   "source": [
    "# Print the best Parameters "
   ]
  },
  {
   "cell_type": "code",
   "execution_count": 25,
   "id": "512a96fe",
   "metadata": {},
   "outputs": [
    {
     "data": {
      "text/plain": [
       "{'base_estimator__max_depth': 5, 'max_features': 20, 'max_samples': 0.5}"
      ]
     },
     "execution_count": 25,
     "metadata": {},
     "output_type": "execute_result"
    }
   ],
   "source": [
    "rfc.best_params_"
   ]
  },
  {
   "cell_type": "code",
   "execution_count": 26,
   "id": "754ce105",
   "metadata": {},
   "outputs": [],
   "source": [
    "y_pred=rfc.predict(X_test)"
   ]
  },
  {
   "cell_type": "code",
   "execution_count": 27,
   "id": "332e8240",
   "metadata": {},
   "outputs": [],
   "source": [
    "from sklearn.metrics import accuracy_score"
   ]
  },
  {
   "cell_type": "code",
   "execution_count": 28,
   "id": "4c50bb16",
   "metadata": {},
   "outputs": [
    {
     "name": "stdout",
     "output_type": "stream",
     "text": [
      "0.82\n"
     ]
    }
   ],
   "source": [
    "print(accuracy_score(y_test,y_pred))"
   ]
  },
  {
   "cell_type": "code",
   "execution_count": 29,
   "id": "1b596386",
   "metadata": {},
   "outputs": [],
   "source": [
    "bgclassifier=BaggingClassifier(base_estimator=rfc,random_state=1)"
   ]
  },
  {
   "cell_type": "code",
   "execution_count": 30,
   "id": "3aed8d1d",
   "metadata": {
    "scrolled": true
   },
   "outputs": [
    {
     "data": {
      "text/plain": [
       "BaggingClassifier(base_estimator=GridSearchCV(estimator=BaggingClassifier(base_estimator=DecisionTreeClassifier(),\n",
       "                                                                          random_state=1),\n",
       "                                              param_grid={'base_estimator__max_depth': [1,\n",
       "                                                                                        5,\n",
       "                                                                                        10,\n",
       "                                                                                        15,\n",
       "                                                                                        20],\n",
       "                                                          'max_features': [1, 5,\n",
       "                                                                           10,\n",
       "                                                                           15,\n",
       "                                                                           20],\n",
       "                                                          'max_samples': [0.05,\n",
       "                                                                          0.1,\n",
       "                                                                          0.2,\n",
       "                                                                          0.5]},\n",
       "                                              scoring='accuracy'),\n",
       "                  random_state=1)"
      ]
     },
     "execution_count": 30,
     "metadata": {},
     "output_type": "execute_result"
    }
   ],
   "source": [
    "bgclassifier.fit(X_train,y_train)"
   ]
  },
  {
   "cell_type": "markdown",
   "id": "0b0fe784",
   "metadata": {},
   "source": [
    "# Testing the model score for test and train score"
   ]
  },
  {
   "cell_type": "code",
   "execution_count": 31,
   "id": "5f93f7cb",
   "metadata": {},
   "outputs": [
    {
     "data": {
      "text/plain": [
       "0.8193333333333334"
      ]
     },
     "execution_count": 31,
     "metadata": {},
     "output_type": "execute_result"
    }
   ],
   "source": [
    "bgclassifier.score(X_test,y_test)"
   ]
  },
  {
   "cell_type": "code",
   "execution_count": 32,
   "id": "9d74c030",
   "metadata": {},
   "outputs": [
    {
     "data": {
      "text/plain": [
       "0.9014285714285715"
      ]
     },
     "execution_count": 32,
     "metadata": {},
     "output_type": "execute_result"
    }
   ],
   "source": [
    "bgclassifier.score(X_train,y_train)"
   ]
  },
  {
   "cell_type": "markdown",
   "id": "7f5c1c8b",
   "metadata": {},
   "source": [
    "# Import the model Randomforestclassifier"
   ]
  },
  {
   "cell_type": "code",
   "execution_count": 33,
   "id": "fbfa4b61",
   "metadata": {},
   "outputs": [],
   "source": [
    "from sklearn.ensemble import RandomForestClassifier"
   ]
  },
  {
   "cell_type": "code",
   "execution_count": 34,
   "id": "6bdda152",
   "metadata": {},
   "outputs": [],
   "source": [
    "rf = RandomForestClassifier(random_state=1)"
   ]
  },
  {
   "cell_type": "code",
   "execution_count": 35,
   "id": "4d5c3818",
   "metadata": {},
   "outputs": [
    {
     "data": {
      "text/plain": [
       "RandomForestClassifier(random_state=1)"
      ]
     },
     "execution_count": 35,
     "metadata": {},
     "output_type": "execute_result"
    }
   ],
   "source": [
    "rf.fit(X_train,y_train)"
   ]
  },
  {
   "cell_type": "code",
   "execution_count": 36,
   "id": "29c78bd3",
   "metadata": {},
   "outputs": [],
   "source": [
    "prediction=rf.predict(X_test)"
   ]
  },
  {
   "cell_type": "markdown",
   "id": "4bb0fea0",
   "metadata": {},
   "source": [
    "# Print the confusion matrix and classification report"
   ]
  },
  {
   "cell_type": "code",
   "execution_count": 37,
   "id": "1573080a",
   "metadata": {},
   "outputs": [],
   "source": [
    "from sklearn.metrics import confusion_matrix,classification_report"
   ]
  },
  {
   "cell_type": "code",
   "execution_count": 38,
   "id": "8f1ceca7",
   "metadata": {},
   "outputs": [
    {
     "name": "stdout",
     "output_type": "stream",
     "text": [
      "              precision    recall  f1-score   support\n",
      "\n",
      "           0       0.84      0.95      0.89      6982\n",
      "           1       0.66      0.37      0.47      2018\n",
      "\n",
      "    accuracy                           0.82      9000\n",
      "   macro avg       0.75      0.66      0.68      9000\n",
      "weighted avg       0.80      0.82      0.80      9000\n",
      "\n"
     ]
    }
   ],
   "source": [
    "print(classification_report(y_test,prediction))"
   ]
  },
  {
   "cell_type": "code",
   "execution_count": 39,
   "id": "74edc307",
   "metadata": {},
   "outputs": [
    {
     "name": "stdout",
     "output_type": "stream",
     "text": [
      "[[6608  374]\n",
      " [1276  742]]\n"
     ]
    }
   ],
   "source": [
    "print(confusion_matrix(y_test,prediction))"
   ]
  },
  {
   "cell_type": "code",
   "execution_count": 40,
   "id": "e9fa75e7",
   "metadata": {},
   "outputs": [
    {
     "name": "stdout",
     "output_type": "stream",
     "text": [
      "0.8166666666666667\n"
     ]
    }
   ],
   "source": [
    "print(accuracy_score(y_test,prediction))"
   ]
  },
  {
   "cell_type": "markdown",
   "id": "23202e2c",
   "metadata": {},
   "source": [
    "# Import the Kfold model and checking the test and train model score"
   ]
  },
  {
   "cell_type": "code",
   "execution_count": 41,
   "id": "271758e4",
   "metadata": {},
   "outputs": [],
   "source": [
    "from sklearn.model_selection import KFold"
   ]
  },
  {
   "cell_type": "code",
   "execution_count": 42,
   "id": "93d0a1d8",
   "metadata": {},
   "outputs": [],
   "source": [
    "rf=GridSearchCV(cv=5, estimator=RandomForestClassifier(random_state=1),param_grid={'max_depth': range(2, 20, 5)}, return_train_score=True,scoring='accuracy')"
   ]
  },
  {
   "cell_type": "code",
   "execution_count": 43,
   "id": "cb1f8851",
   "metadata": {},
   "outputs": [
    {
     "data": {
      "text/plain": [
       "GridSearchCV(cv=5, estimator=RandomForestClassifier(random_state=1),\n",
       "             param_grid={'max_depth': range(2, 20, 5)}, return_train_score=True,\n",
       "             scoring='accuracy')"
      ]
     },
     "execution_count": 43,
     "metadata": {},
     "output_type": "execute_result"
    }
   ],
   "source": [
    "rf.fit(X_train,y_train)"
   ]
  },
  {
   "cell_type": "code",
   "execution_count": 44,
   "id": "e71371ef",
   "metadata": {},
   "outputs": [],
   "source": [
    "score=pd.DataFrame(rf.cv_results_)"
   ]
  },
  {
   "cell_type": "code",
   "execution_count": 45,
   "id": "9dec7571",
   "metadata": {},
   "outputs": [
    {
     "data": {
      "text/html": [
       "<div>\n",
       "<style scoped>\n",
       "    .dataframe tbody tr th:only-of-type {\n",
       "        vertical-align: middle;\n",
       "    }\n",
       "\n",
       "    .dataframe tbody tr th {\n",
       "        vertical-align: top;\n",
       "    }\n",
       "\n",
       "    .dataframe thead th {\n",
       "        text-align: right;\n",
       "    }\n",
       "</style>\n",
       "<table border=\"1\" class=\"dataframe\">\n",
       "  <thead>\n",
       "    <tr style=\"text-align: right;\">\n",
       "      <th></th>\n",
       "      <th>mean_fit_time</th>\n",
       "      <th>std_fit_time</th>\n",
       "      <th>mean_score_time</th>\n",
       "      <th>std_score_time</th>\n",
       "      <th>param_max_depth</th>\n",
       "      <th>params</th>\n",
       "      <th>split0_test_score</th>\n",
       "      <th>split1_test_score</th>\n",
       "      <th>split2_test_score</th>\n",
       "      <th>split3_test_score</th>\n",
       "      <th>...</th>\n",
       "      <th>mean_test_score</th>\n",
       "      <th>std_test_score</th>\n",
       "      <th>rank_test_score</th>\n",
       "      <th>split0_train_score</th>\n",
       "      <th>split1_train_score</th>\n",
       "      <th>split2_train_score</th>\n",
       "      <th>split3_train_score</th>\n",
       "      <th>split4_train_score</th>\n",
       "      <th>mean_train_score</th>\n",
       "      <th>std_train_score</th>\n",
       "    </tr>\n",
       "  </thead>\n",
       "  <tbody>\n",
       "    <tr>\n",
       "      <th>0</th>\n",
       "      <td>0.631418</td>\n",
       "      <td>0.006713</td>\n",
       "      <td>0.021018</td>\n",
       "      <td>0.000088</td>\n",
       "      <td>2</td>\n",
       "      <td>{'max_depth': 2}</td>\n",
       "      <td>0.801190</td>\n",
       "      <td>0.801190</td>\n",
       "      <td>0.800714</td>\n",
       "      <td>0.800952</td>\n",
       "      <td>...</td>\n",
       "      <td>0.801048</td>\n",
       "      <td>0.000190</td>\n",
       "      <td>4</td>\n",
       "      <td>0.802202</td>\n",
       "      <td>0.801607</td>\n",
       "      <td>0.801607</td>\n",
       "      <td>0.801905</td>\n",
       "      <td>0.801548</td>\n",
       "      <td>0.801774</td>\n",
       "      <td>0.000248</td>\n",
       "    </tr>\n",
       "    <tr>\n",
       "      <th>1</th>\n",
       "      <td>1.598406</td>\n",
       "      <td>0.009020</td>\n",
       "      <td>0.033472</td>\n",
       "      <td>0.000384</td>\n",
       "      <td>7</td>\n",
       "      <td>{'max_depth': 7}</td>\n",
       "      <td>0.824286</td>\n",
       "      <td>0.820952</td>\n",
       "      <td>0.822143</td>\n",
       "      <td>0.821429</td>\n",
       "      <td>...</td>\n",
       "      <td>0.821190</td>\n",
       "      <td>0.002323</td>\n",
       "      <td>1</td>\n",
       "      <td>0.833571</td>\n",
       "      <td>0.835417</td>\n",
       "      <td>0.835893</td>\n",
       "      <td>0.833393</td>\n",
       "      <td>0.836964</td>\n",
       "      <td>0.835048</td>\n",
       "      <td>0.001374</td>\n",
       "    </tr>\n",
       "    <tr>\n",
       "      <th>2</th>\n",
       "      <td>2.532426</td>\n",
       "      <td>0.183612</td>\n",
       "      <td>0.052271</td>\n",
       "      <td>0.000709</td>\n",
       "      <td>12</td>\n",
       "      <td>{'max_depth': 12}</td>\n",
       "      <td>0.823095</td>\n",
       "      <td>0.821905</td>\n",
       "      <td>0.821905</td>\n",
       "      <td>0.820238</td>\n",
       "      <td>...</td>\n",
       "      <td>0.821095</td>\n",
       "      <td>0.001654</td>\n",
       "      <td>2</td>\n",
       "      <td>0.885476</td>\n",
       "      <td>0.886131</td>\n",
       "      <td>0.889643</td>\n",
       "      <td>0.886786</td>\n",
       "      <td>0.884702</td>\n",
       "      <td>0.886548</td>\n",
       "      <td>0.001695</td>\n",
       "    </tr>\n",
       "    <tr>\n",
       "      <th>3</th>\n",
       "      <td>3.605774</td>\n",
       "      <td>0.014177</td>\n",
       "      <td>0.070796</td>\n",
       "      <td>0.000382</td>\n",
       "      <td>17</td>\n",
       "      <td>{'max_depth': 17}</td>\n",
       "      <td>0.826190</td>\n",
       "      <td>0.821429</td>\n",
       "      <td>0.821190</td>\n",
       "      <td>0.817143</td>\n",
       "      <td>...</td>\n",
       "      <td>0.819714</td>\n",
       "      <td>0.004561</td>\n",
       "      <td>3</td>\n",
       "      <td>0.928631</td>\n",
       "      <td>0.926845</td>\n",
       "      <td>0.929405</td>\n",
       "      <td>0.927857</td>\n",
       "      <td>0.928155</td>\n",
       "      <td>0.928179</td>\n",
       "      <td>0.000847</td>\n",
       "    </tr>\n",
       "  </tbody>\n",
       "</table>\n",
       "<p>4 rows × 21 columns</p>\n",
       "</div>"
      ],
      "text/plain": [
       "   mean_fit_time  std_fit_time  mean_score_time  std_score_time  \\\n",
       "0       0.631418      0.006713         0.021018        0.000088   \n",
       "1       1.598406      0.009020         0.033472        0.000384   \n",
       "2       2.532426      0.183612         0.052271        0.000709   \n",
       "3       3.605774      0.014177         0.070796        0.000382   \n",
       "\n",
       "  param_max_depth             params  split0_test_score  split1_test_score  \\\n",
       "0               2   {'max_depth': 2}           0.801190           0.801190   \n",
       "1               7   {'max_depth': 7}           0.824286           0.820952   \n",
       "2              12  {'max_depth': 12}           0.823095           0.821905   \n",
       "3              17  {'max_depth': 17}           0.826190           0.821429   \n",
       "\n",
       "   split2_test_score  split3_test_score  ...  mean_test_score  std_test_score  \\\n",
       "0           0.800714           0.800952  ...         0.801048        0.000190   \n",
       "1           0.822143           0.821429  ...         0.821190        0.002323   \n",
       "2           0.821905           0.820238  ...         0.821095        0.001654   \n",
       "3           0.821190           0.817143  ...         0.819714        0.004561   \n",
       "\n",
       "   rank_test_score  split0_train_score  split1_train_score  \\\n",
       "0                4            0.802202            0.801607   \n",
       "1                1            0.833571            0.835417   \n",
       "2                2            0.885476            0.886131   \n",
       "3                3            0.928631            0.926845   \n",
       "\n",
       "   split2_train_score  split3_train_score  split4_train_score  \\\n",
       "0            0.801607            0.801905            0.801548   \n",
       "1            0.835893            0.833393            0.836964   \n",
       "2            0.889643            0.886786            0.884702   \n",
       "3            0.929405            0.927857            0.928155   \n",
       "\n",
       "   mean_train_score  std_train_score  \n",
       "0          0.801774         0.000248  \n",
       "1          0.835048         0.001374  \n",
       "2          0.886548         0.001695  \n",
       "3          0.928179         0.000847  \n",
       "\n",
       "[4 rows x 21 columns]"
      ]
     },
     "execution_count": 45,
     "metadata": {},
     "output_type": "execute_result"
    }
   ],
   "source": [
    "score"
   ]
  },
  {
   "cell_type": "code",
   "execution_count": 46,
   "id": "a66062ac",
   "metadata": {},
   "outputs": [
    {
     "data": {
      "image/png": "[encoded data removed]",
      "text/plain": [
       "<Figure size 432x288 with 1 Axes>"
      ]
     },
     "metadata": {
      "needs_background": "light"
     },
     "output_type": "display_data"
    }
   ],
   "source": [
    "plt.figure()\n",
    "max_depth =range(2, 20, 5)\n",
    "plt.plot(max_depth,score['mean_train_score'])\n",
    "plt.plot(max_depth,score['mean_test_score'])\n",
    "plt.show()\n"
   ]
  },
  {
   "cell_type": "code",
   "execution_count": 47,
   "id": "4dde9ae8",
   "metadata": {},
   "outputs": [],
   "source": [
    "rf=GridSearchCV(cv=5,estimator=RandomForestClassifier(max_depth=4, random_state=1),param_grid={'n_estimators': range(100, 1500, 400)},return_train_score=True, scoring='accuracy')"
   ]
  },
  {
   "cell_type": "code",
   "execution_count": 48,
   "id": "349c562d",
   "metadata": {},
   "outputs": [
    {
     "data": {
      "text/plain": [
       "GridSearchCV(cv=5,\n",
       "             estimator=RandomForestClassifier(max_depth=4, random_state=1),\n",
       "             param_grid={'n_estimators': range(100, 1500, 400)},\n",
       "             return_train_score=True, scoring='accuracy')"
      ]
     },
     "execution_count": 48,
     "metadata": {},
     "output_type": "execute_result"
    }
   ],
   "source": [
    "rf.fit(X_train,y_train)"
   ]
  },
  {
   "cell_type": "code",
   "execution_count": 49,
   "id": "5835c623",
   "metadata": {},
   "outputs": [],
   "source": [
    "score=pd.DataFrame(rf.cv_results_)"
   ]
  },
  {
   "cell_type": "code",
   "execution_count": 50,
   "id": "5619ceec",
   "metadata": {},
   "outputs": [
    {
     "data": {
      "text/html": [
       "<div>\n",
       "<style scoped>\n",
       "    .dataframe tbody tr th:only-of-type {\n",
       "        vertical-align: middle;\n",
       "    }\n",
       "\n",
       "    .dataframe tbody tr th {\n",
       "        vertical-align: top;\n",
       "    }\n",
       "\n",
       "    .dataframe thead th {\n",
       "        text-align: right;\n",
       "    }\n",
       "</style>\n",
       "<table border=\"1\" class=\"dataframe\">\n",
       "  <thead>\n",
       "    <tr style=\"text-align: right;\">\n",
       "      <th></th>\n",
       "      <th>mean_fit_time</th>\n",
       "      <th>std_fit_time</th>\n",
       "      <th>mean_score_time</th>\n",
       "      <th>std_score_time</th>\n",
       "      <th>param_n_estimators</th>\n",
       "      <th>params</th>\n",
       "      <th>split0_test_score</th>\n",
       "      <th>split1_test_score</th>\n",
       "      <th>split2_test_score</th>\n",
       "      <th>split3_test_score</th>\n",
       "      <th>...</th>\n",
       "      <th>mean_test_score</th>\n",
       "      <th>std_test_score</th>\n",
       "      <th>rank_test_score</th>\n",
       "      <th>split0_train_score</th>\n",
       "      <th>split1_train_score</th>\n",
       "      <th>split2_train_score</th>\n",
       "      <th>split3_train_score</th>\n",
       "      <th>split4_train_score</th>\n",
       "      <th>mean_train_score</th>\n",
       "      <th>std_train_score</th>\n",
       "    </tr>\n",
       "  </thead>\n",
       "  <tbody>\n",
       "    <tr>\n",
       "      <th>0</th>\n",
       "      <td>1.042467</td>\n",
       "      <td>0.012059</td>\n",
       "      <td>0.025890</td>\n",
       "      <td>0.000143</td>\n",
       "      <td>100</td>\n",
       "      <td>{'n_estimators': 100}</td>\n",
       "      <td>0.810476</td>\n",
       "      <td>0.815000</td>\n",
       "      <td>0.812857</td>\n",
       "      <td>0.814048</td>\n",
       "      <td>...</td>\n",
       "      <td>0.812810</td>\n",
       "      <td>0.001618</td>\n",
       "      <td>1</td>\n",
       "      <td>0.814405</td>\n",
       "      <td>0.814940</td>\n",
       "      <td>0.815060</td>\n",
       "      <td>0.813155</td>\n",
       "      <td>0.814643</td>\n",
       "      <td>0.814440</td>\n",
       "      <td>0.000682</td>\n",
       "    </tr>\n",
       "    <tr>\n",
       "      <th>1</th>\n",
       "      <td>5.346584</td>\n",
       "      <td>0.263189</td>\n",
       "      <td>0.122999</td>\n",
       "      <td>0.002825</td>\n",
       "      <td>500</td>\n",
       "      <td>{'n_estimators': 500}</td>\n",
       "      <td>0.809286</td>\n",
       "      <td>0.814286</td>\n",
       "      <td>0.811905</td>\n",
       "      <td>0.814762</td>\n",
       "      <td>...</td>\n",
       "      <td>0.812429</td>\n",
       "      <td>0.001966</td>\n",
       "      <td>2</td>\n",
       "      <td>0.813929</td>\n",
       "      <td>0.813690</td>\n",
       "      <td>0.813393</td>\n",
       "      <td>0.812857</td>\n",
       "      <td>0.813869</td>\n",
       "      <td>0.813548</td>\n",
       "      <td>0.000392</td>\n",
       "    </tr>\n",
       "    <tr>\n",
       "      <th>2</th>\n",
       "      <td>9.391673</td>\n",
       "      <td>0.015913</td>\n",
       "      <td>0.215459</td>\n",
       "      <td>0.000593</td>\n",
       "      <td>900</td>\n",
       "      <td>{'n_estimators': 900}</td>\n",
       "      <td>0.809286</td>\n",
       "      <td>0.814762</td>\n",
       "      <td>0.811429</td>\n",
       "      <td>0.813810</td>\n",
       "      <td>...</td>\n",
       "      <td>0.812238</td>\n",
       "      <td>0.001914</td>\n",
       "      <td>3</td>\n",
       "      <td>0.813393</td>\n",
       "      <td>0.813929</td>\n",
       "      <td>0.813393</td>\n",
       "      <td>0.812440</td>\n",
       "      <td>0.813452</td>\n",
       "      <td>0.813321</td>\n",
       "      <td>0.000484</td>\n",
       "    </tr>\n",
       "    <tr>\n",
       "      <th>3</th>\n",
       "      <td>13.554433</td>\n",
       "      <td>0.074102</td>\n",
       "      <td>0.311674</td>\n",
       "      <td>0.001050</td>\n",
       "      <td>1300</td>\n",
       "      <td>{'n_estimators': 1300}</td>\n",
       "      <td>0.808571</td>\n",
       "      <td>0.814762</td>\n",
       "      <td>0.811429</td>\n",
       "      <td>0.813571</td>\n",
       "      <td>...</td>\n",
       "      <td>0.812000</td>\n",
       "      <td>0.002111</td>\n",
       "      <td>4</td>\n",
       "      <td>0.813274</td>\n",
       "      <td>0.813869</td>\n",
       "      <td>0.813631</td>\n",
       "      <td>0.812143</td>\n",
       "      <td>0.813929</td>\n",
       "      <td>0.813369</td>\n",
       "      <td>0.000655</td>\n",
       "    </tr>\n",
       "  </tbody>\n",
       "</table>\n",
       "<p>4 rows × 21 columns</p>\n",
       "</div>"
      ],
      "text/plain": [
       "   mean_fit_time  std_fit_time  mean_score_time  std_score_time  \\\n",
       "0       1.042467      0.012059         0.025890        0.000143   \n",
       "1       5.346584      0.263189         0.122999        0.002825   \n",
       "2       9.391673      0.015913         0.215459        0.000593   \n",
       "3      13.554433      0.074102         0.311674        0.001050   \n",
       "\n",
       "  param_n_estimators                  params  split0_test_score  \\\n",
       "0                100   {'n_estimators': 100}           0.810476   \n",
       "1                500   {'n_estimators': 500}           0.809286   \n",
       "2                900   {'n_estimators': 900}           0.809286   \n",
       "3               1300  {'n_estimators': 1300}           0.808571   \n",
       "\n",
       "   split1_test_score  split2_test_score  split3_test_score  ...  \\\n",
       "0           0.815000           0.812857           0.814048  ...   \n",
       "1           0.814286           0.811905           0.814762  ...   \n",
       "2           0.814762           0.811429           0.813810  ...   \n",
       "3           0.814762           0.811429           0.813571  ...   \n",
       "\n",
       "   mean_test_score  std_test_score  rank_test_score  split0_train_score  \\\n",
       "0         0.812810        0.001618                1            0.814405   \n",
       "1         0.812429        0.001966                2            0.813929   \n",
       "2         0.812238        0.001914                3            0.813393   \n",
       "3         0.812000        0.002111                4            0.813274   \n",
       "\n",
       "   split1_train_score  split2_train_score  split3_train_score  \\\n",
       "0            0.814940            0.815060            0.813155   \n",
       "1            0.813690            0.813393            0.812857   \n",
       "2            0.813929            0.813393            0.812440   \n",
       "3            0.813869            0.813631            0.812143   \n",
       "\n",
       "   split4_train_score  mean_train_score  std_train_score  \n",
       "0            0.814643          0.814440         0.000682  \n",
       "1            0.813869          0.813548         0.000392  \n",
       "2            0.813452          0.813321         0.000484  \n",
       "3            0.813929          0.813369         0.000655  \n",
       "\n",
       "[4 rows x 21 columns]"
      ]
     },
     "execution_count": 50,
     "metadata": {},
     "output_type": "execute_result"
    }
   ],
   "source": [
    "score"
   ]
  },
  {
   "cell_type": "code",
   "execution_count": 51,
   "id": "46954a27",
   "metadata": {},
   "outputs": [
    {
     "data": {
      "image/png": "[encoded data removed]",
      "text/plain": [
       "<Figure size 432x288 with 1 Axes>"
      ]
     },
     "metadata": {
      "needs_background": "light"
     },
     "output_type": "display_data"
    }
   ],
   "source": [
    "plt.figure()\n",
    "n_estimators= range(100, 1500, 400)\n",
    "plt.plot(n_estimators,score['mean_train_score'])\n",
    "plt.plot(n_estimators,score['mean_test_score'])\n",
    "plt.show()\n"
   ]
  },
  {
   "cell_type": "code",
   "execution_count": 52,
   "id": "6f6f24bb",
   "metadata": {},
   "outputs": [],
   "source": [
    "rf=GridSearchCV(cv=5,estimator=RandomForestClassifier(max_depth=4, random_state=1),param_grid={'max_features': [4, 8, 14, 20, 24]},return_train_score=True, scoring='accuracy')"
   ]
  },
  {
   "cell_type": "code",
   "execution_count": 53,
   "id": "fb2b78a1",
   "metadata": {},
   "outputs": [
    {
     "data": {
      "text/plain": [
       "GridSearchCV(cv=5,\n",
       "             estimator=RandomForestClassifier(max_depth=4, random_state=1),\n",
       "             param_grid={'max_features': [4, 8, 14, 20, 24]},\n",
       "             return_train_score=True, scoring='accuracy')"
      ]
     },
     "execution_count": 53,
     "metadata": {},
     "output_type": "execute_result"
    }
   ],
   "source": [
    "rf.fit(X_train,y_train)"
   ]
  },
  {
   "cell_type": "code",
   "execution_count": 54,
   "id": "66214781",
   "metadata": {},
   "outputs": [],
   "source": [
    "score=pd.DataFrame(rf.cv_results_)"
   ]
  },
  {
   "cell_type": "code",
   "execution_count": 55,
   "id": "fc440db3",
   "metadata": {},
   "outputs": [
    {
     "data": {
      "text/html": [
       "<div>\n",
       "<style scoped>\n",
       "    .dataframe tbody tr th:only-of-type {\n",
       "        vertical-align: middle;\n",
       "    }\n",
       "\n",
       "    .dataframe tbody tr th {\n",
       "        vertical-align: top;\n",
       "    }\n",
       "\n",
       "    .dataframe thead th {\n",
       "        text-align: right;\n",
       "    }\n",
       "</style>\n",
       "<table border=\"1\" class=\"dataframe\">\n",
       "  <thead>\n",
       "    <tr style=\"text-align: right;\">\n",
       "      <th></th>\n",
       "      <th>mean_fit_time</th>\n",
       "      <th>std_fit_time</th>\n",
       "      <th>mean_score_time</th>\n",
       "      <th>std_score_time</th>\n",
       "      <th>param_max_features</th>\n",
       "      <th>params</th>\n",
       "      <th>split0_test_score</th>\n",
       "      <th>split1_test_score</th>\n",
       "      <th>split2_test_score</th>\n",
       "      <th>split3_test_score</th>\n",
       "      <th>...</th>\n",
       "      <th>mean_test_score</th>\n",
       "      <th>std_test_score</th>\n",
       "      <th>rank_test_score</th>\n",
       "      <th>split0_train_score</th>\n",
       "      <th>split1_train_score</th>\n",
       "      <th>split2_train_score</th>\n",
       "      <th>split3_train_score</th>\n",
       "      <th>split4_train_score</th>\n",
       "      <th>mean_train_score</th>\n",
       "      <th>std_train_score</th>\n",
       "    </tr>\n",
       "  </thead>\n",
       "  <tbody>\n",
       "    <tr>\n",
       "      <th>0</th>\n",
       "      <td>1.043158</td>\n",
       "      <td>0.010834</td>\n",
       "      <td>0.025630</td>\n",
       "      <td>0.000034</td>\n",
       "      <td>4</td>\n",
       "      <td>{'max_features': 4}</td>\n",
       "      <td>0.810476</td>\n",
       "      <td>0.815000</td>\n",
       "      <td>0.812857</td>\n",
       "      <td>0.814048</td>\n",
       "      <td>...</td>\n",
       "      <td>0.812810</td>\n",
       "      <td>0.001618</td>\n",
       "      <td>5</td>\n",
       "      <td>0.814405</td>\n",
       "      <td>0.814940</td>\n",
       "      <td>0.815060</td>\n",
       "      <td>0.813155</td>\n",
       "      <td>0.814643</td>\n",
       "      <td>0.814440</td>\n",
       "      <td>0.000682</td>\n",
       "    </tr>\n",
       "    <tr>\n",
       "      <th>1</th>\n",
       "      <td>1.817756</td>\n",
       "      <td>0.012204</td>\n",
       "      <td>0.025379</td>\n",
       "      <td>0.000096</td>\n",
       "      <td>8</td>\n",
       "      <td>{'max_features': 8}</td>\n",
       "      <td>0.821429</td>\n",
       "      <td>0.822143</td>\n",
       "      <td>0.820952</td>\n",
       "      <td>0.823810</td>\n",
       "      <td>...</td>\n",
       "      <td>0.821381</td>\n",
       "      <td>0.001706</td>\n",
       "      <td>3</td>\n",
       "      <td>0.824345</td>\n",
       "      <td>0.824048</td>\n",
       "      <td>0.824048</td>\n",
       "      <td>0.822679</td>\n",
       "      <td>0.824940</td>\n",
       "      <td>0.824012</td>\n",
       "      <td>0.000742</td>\n",
       "    </tr>\n",
       "    <tr>\n",
       "      <th>2</th>\n",
       "      <td>3.028015</td>\n",
       "      <td>0.007249</td>\n",
       "      <td>0.025224</td>\n",
       "      <td>0.000134</td>\n",
       "      <td>14</td>\n",
       "      <td>{'max_features': 14}</td>\n",
       "      <td>0.822857</td>\n",
       "      <td>0.820476</td>\n",
       "      <td>0.818571</td>\n",
       "      <td>0.824524</td>\n",
       "      <td>...</td>\n",
       "      <td>0.821000</td>\n",
       "      <td>0.002364</td>\n",
       "      <td>4</td>\n",
       "      <td>0.824643</td>\n",
       "      <td>0.823631</td>\n",
       "      <td>0.823810</td>\n",
       "      <td>0.823274</td>\n",
       "      <td>0.825476</td>\n",
       "      <td>0.824167</td>\n",
       "      <td>0.000794</td>\n",
       "    </tr>\n",
       "    <tr>\n",
       "      <th>3</th>\n",
       "      <td>4.556439</td>\n",
       "      <td>0.274645</td>\n",
       "      <td>0.025842</td>\n",
       "      <td>0.000520</td>\n",
       "      <td>20</td>\n",
       "      <td>{'max_features': 20}</td>\n",
       "      <td>0.823333</td>\n",
       "      <td>0.822857</td>\n",
       "      <td>0.820238</td>\n",
       "      <td>0.825238</td>\n",
       "      <td>...</td>\n",
       "      <td>0.822048</td>\n",
       "      <td>0.002360</td>\n",
       "      <td>2</td>\n",
       "      <td>0.825000</td>\n",
       "      <td>0.825119</td>\n",
       "      <td>0.825595</td>\n",
       "      <td>0.824405</td>\n",
       "      <td>0.825595</td>\n",
       "      <td>0.825143</td>\n",
       "      <td>0.000442</td>\n",
       "    </tr>\n",
       "    <tr>\n",
       "      <th>4</th>\n",
       "      <td>5.753573</td>\n",
       "      <td>0.023773</td>\n",
       "      <td>0.026162</td>\n",
       "      <td>0.000115</td>\n",
       "      <td>24</td>\n",
       "      <td>{'max_features': 24}</td>\n",
       "      <td>0.823333</td>\n",
       "      <td>0.823333</td>\n",
       "      <td>0.821190</td>\n",
       "      <td>0.826190</td>\n",
       "      <td>...</td>\n",
       "      <td>0.822571</td>\n",
       "      <td>0.002462</td>\n",
       "      <td>1</td>\n",
       "      <td>0.825417</td>\n",
       "      <td>0.825476</td>\n",
       "      <td>0.825952</td>\n",
       "      <td>0.824524</td>\n",
       "      <td>0.826310</td>\n",
       "      <td>0.825536</td>\n",
       "      <td>0.000602</td>\n",
       "    </tr>\n",
       "  </tbody>\n",
       "</table>\n",
       "<p>5 rows × 21 columns</p>\n",
       "</div>"
      ],
      "text/plain": [
       "   mean_fit_time  std_fit_time  mean_score_time  std_score_time  \\\n",
       "0       1.043158      0.010834         0.025630        0.000034   \n",
       "1       1.817756      0.012204         0.025379        0.000096   \n",
       "2       3.028015      0.007249         0.025224        0.000134   \n",
       "3       4.556439      0.274645         0.025842        0.000520   \n",
       "4       5.753573      0.023773         0.026162        0.000115   \n",
       "\n",
       "  param_max_features                params  split0_test_score  \\\n",
       "0                  4   {'max_features': 4}           0.810476   \n",
       "1                  8   {'max_features': 8}           0.821429   \n",
       "2                 14  {'max_features': 14}           0.822857   \n",
       "3                 20  {'max_features': 20}           0.823333   \n",
       "4                 24  {'max_features': 24}           0.823333   \n",
       "\n",
       "   split1_test_score  split2_test_score  split3_test_score  ...  \\\n",
       "0           0.815000           0.812857           0.814048  ...   \n",
       "1           0.822143           0.820952           0.823810  ...   \n",
       "2           0.820476           0.818571           0.824524  ...   \n",
       "3           0.822857           0.820238           0.825238  ...   \n",
       "4           0.823333           0.821190           0.826190  ...   \n",
       "\n",
       "   mean_test_score  std_test_score  rank_test_score  split0_train_score  \\\n",
       "0         0.812810        0.001618                5            0.814405   \n",
       "1         0.821381        0.001706                3            0.824345   \n",
       "2         0.821000        0.002364                4            0.824643   \n",
       "3         0.822048        0.002360                2            0.825000   \n",
       "4         0.822571        0.002462                1            0.825417   \n",
       "\n",
       "   split1_train_score  split2_train_score  split3_train_score  \\\n",
       "0            0.814940            0.815060            0.813155   \n",
       "1            0.824048            0.824048            0.822679   \n",
       "2            0.823631            0.823810            0.823274   \n",
       "3            0.825119            0.825595            0.824405   \n",
       "4            0.825476            0.825952            0.824524   \n",
       "\n",
       "   split4_train_score  mean_train_score  std_train_score  \n",
       "0            0.814643          0.814440         0.000682  \n",
       "1            0.824940          0.824012         0.000742  \n",
       "2            0.825476          0.824167         0.000794  \n",
       "3            0.825595          0.825143         0.000442  \n",
       "4            0.826310          0.825536         0.000602  \n",
       "\n",
       "[5 rows x 21 columns]"
      ]
     },
     "execution_count": 55,
     "metadata": {},
     "output_type": "execute_result"
    }
   ],
   "source": [
    "score"
   ]
  },
  {
   "cell_type": "code",
   "execution_count": 56,
   "id": "5214ead6",
   "metadata": {},
   "outputs": [
    {
     "data": {
      "image/png": "[encoded data removed]",
      "text/plain": [
       "<Figure size 432x288 with 1 Axes>"
      ]
     },
     "metadata": {
      "needs_background": "light"
     },
     "output_type": "display_data"
    }
   ],
   "source": [
    "plt.figure()\n",
    "max_features= [4, 8, 14, 20, 24]\n",
    "plt.plot(max_features,score['mean_train_score'])\n",
    "plt.plot(max_features,score['mean_test_score'])\n",
    "plt.show()"
   ]
  },
  {
   "cell_type": "code",
   "execution_count": 57,
   "id": "39d93446",
   "metadata": {},
   "outputs": [],
   "source": [
    "rf=GridSearchCV(cv=5, estimator=RandomForestClassifier(random_state=1),param_grid={'min_samples_leaf': range(100, 400, 50)},return_train_score=True, scoring='accuracy')"
   ]
  },
  {
   "cell_type": "code",
   "execution_count": 58,
   "id": "e84d811c",
   "metadata": {},
   "outputs": [
    {
     "data": {
      "text/plain": [
       "GridSearchCV(cv=5, estimator=RandomForestClassifier(random_state=1),\n",
       "             param_grid={'min_samples_leaf': range(100, 400, 50)},\n",
       "             return_train_score=True, scoring='accuracy')"
      ]
     },
     "execution_count": 58,
     "metadata": {},
     "output_type": "execute_result"
    }
   ],
   "source": [
    "rf.fit(X_train,y_train)"
   ]
  },
  {
   "cell_type": "code",
   "execution_count": 59,
   "id": "db87b3b1",
   "metadata": {},
   "outputs": [],
   "source": [
    "score=pd.DataFrame(rf.cv_results_)"
   ]
  },
  {
   "cell_type": "code",
   "execution_count": 60,
   "id": "992c8cdd",
   "metadata": {},
   "outputs": [
    {
     "data": {
      "text/html": [
       "<div>\n",
       "<style scoped>\n",
       "    .dataframe tbody tr th:only-of-type {\n",
       "        vertical-align: middle;\n",
       "    }\n",
       "\n",
       "    .dataframe tbody tr th {\n",
       "        vertical-align: top;\n",
       "    }\n",
       "\n",
       "    .dataframe thead th {\n",
       "        text-align: right;\n",
       "    }\n",
       "</style>\n",
       "<table border=\"1\" class=\"dataframe\">\n",
       "  <thead>\n",
       "    <tr style=\"text-align: right;\">\n",
       "      <th></th>\n",
       "      <th>mean_fit_time</th>\n",
       "      <th>std_fit_time</th>\n",
       "      <th>mean_score_time</th>\n",
       "      <th>std_score_time</th>\n",
       "      <th>param_min_samples_leaf</th>\n",
       "      <th>params</th>\n",
       "      <th>split0_test_score</th>\n",
       "      <th>split1_test_score</th>\n",
       "      <th>split2_test_score</th>\n",
       "      <th>split3_test_score</th>\n",
       "      <th>...</th>\n",
       "      <th>mean_test_score</th>\n",
       "      <th>std_test_score</th>\n",
       "      <th>rank_test_score</th>\n",
       "      <th>split0_train_score</th>\n",
       "      <th>split1_train_score</th>\n",
       "      <th>split2_train_score</th>\n",
       "      <th>split3_train_score</th>\n",
       "      <th>split4_train_score</th>\n",
       "      <th>mean_train_score</th>\n",
       "      <th>std_train_score</th>\n",
       "    </tr>\n",
       "  </thead>\n",
       "  <tbody>\n",
       "    <tr>\n",
       "      <th>0</th>\n",
       "      <td>1.986363</td>\n",
       "      <td>0.039614</td>\n",
       "      <td>0.043971</td>\n",
       "      <td>0.000070</td>\n",
       "      <td>100</td>\n",
       "      <td>{'min_samples_leaf': 100}</td>\n",
       "      <td>0.818333</td>\n",
       "      <td>0.819524</td>\n",
       "      <td>0.812857</td>\n",
       "      <td>0.820000</td>\n",
       "      <td>...</td>\n",
       "      <td>0.817333</td>\n",
       "      <td>0.002640</td>\n",
       "      <td>1</td>\n",
       "      <td>0.819762</td>\n",
       "      <td>0.820179</td>\n",
       "      <td>0.819464</td>\n",
       "      <td>0.821012</td>\n",
       "      <td>0.820417</td>\n",
       "      <td>0.820167</td>\n",
       "      <td>0.000536</td>\n",
       "    </tr>\n",
       "    <tr>\n",
       "      <th>1</th>\n",
       "      <td>1.880680</td>\n",
       "      <td>0.045419</td>\n",
       "      <td>0.042396</td>\n",
       "      <td>0.002408</td>\n",
       "      <td>150</td>\n",
       "      <td>{'min_samples_leaf': 150}</td>\n",
       "      <td>0.808571</td>\n",
       "      <td>0.813571</td>\n",
       "      <td>0.812381</td>\n",
       "      <td>0.813571</td>\n",
       "      <td>...</td>\n",
       "      <td>0.812476</td>\n",
       "      <td>0.002046</td>\n",
       "      <td>2</td>\n",
       "      <td>0.813393</td>\n",
       "      <td>0.813036</td>\n",
       "      <td>0.816369</td>\n",
       "      <td>0.812321</td>\n",
       "      <td>0.818452</td>\n",
       "      <td>0.814714</td>\n",
       "      <td>0.002324</td>\n",
       "    </tr>\n",
       "    <tr>\n",
       "      <th>2</th>\n",
       "      <td>1.696867</td>\n",
       "      <td>0.018691</td>\n",
       "      <td>0.039117</td>\n",
       "      <td>0.001342</td>\n",
       "      <td>200</td>\n",
       "      <td>{'min_samples_leaf': 200}</td>\n",
       "      <td>0.808333</td>\n",
       "      <td>0.812143</td>\n",
       "      <td>0.810476</td>\n",
       "      <td>0.813333</td>\n",
       "      <td>...</td>\n",
       "      <td>0.811143</td>\n",
       "      <td>0.001686</td>\n",
       "      <td>3</td>\n",
       "      <td>0.812083</td>\n",
       "      <td>0.810238</td>\n",
       "      <td>0.811607</td>\n",
       "      <td>0.809821</td>\n",
       "      <td>0.811429</td>\n",
       "      <td>0.811036</td>\n",
       "      <td>0.000859</td>\n",
       "    </tr>\n",
       "    <tr>\n",
       "      <th>3</th>\n",
       "      <td>1.627109</td>\n",
       "      <td>0.045544</td>\n",
       "      <td>0.038544</td>\n",
       "      <td>0.000968</td>\n",
       "      <td>250</td>\n",
       "      <td>{'min_samples_leaf': 250}</td>\n",
       "      <td>0.807619</td>\n",
       "      <td>0.810952</td>\n",
       "      <td>0.810000</td>\n",
       "      <td>0.812619</td>\n",
       "      <td>...</td>\n",
       "      <td>0.810429</td>\n",
       "      <td>0.001639</td>\n",
       "      <td>4</td>\n",
       "      <td>0.812500</td>\n",
       "      <td>0.811131</td>\n",
       "      <td>0.811726</td>\n",
       "      <td>0.811369</td>\n",
       "      <td>0.811131</td>\n",
       "      <td>0.811571</td>\n",
       "      <td>0.000513</td>\n",
       "    </tr>\n",
       "    <tr>\n",
       "      <th>4</th>\n",
       "      <td>1.651069</td>\n",
       "      <td>0.105790</td>\n",
       "      <td>0.036569</td>\n",
       "      <td>0.000735</td>\n",
       "      <td>300</td>\n",
       "      <td>{'min_samples_leaf': 300}</td>\n",
       "      <td>0.805238</td>\n",
       "      <td>0.812143</td>\n",
       "      <td>0.809048</td>\n",
       "      <td>0.810952</td>\n",
       "      <td>...</td>\n",
       "      <td>0.809524</td>\n",
       "      <td>0.002367</td>\n",
       "      <td>5</td>\n",
       "      <td>0.812083</td>\n",
       "      <td>0.811131</td>\n",
       "      <td>0.810060</td>\n",
       "      <td>0.809048</td>\n",
       "      <td>0.809583</td>\n",
       "      <td>0.810381</td>\n",
       "      <td>0.001093</td>\n",
       "    </tr>\n",
       "    <tr>\n",
       "      <th>5</th>\n",
       "      <td>1.475858</td>\n",
       "      <td>0.036046</td>\n",
       "      <td>0.036152</td>\n",
       "      <td>0.001013</td>\n",
       "      <td>350</td>\n",
       "      <td>{'min_samples_leaf': 350}</td>\n",
       "      <td>0.805714</td>\n",
       "      <td>0.809524</td>\n",
       "      <td>0.808810</td>\n",
       "      <td>0.806905</td>\n",
       "      <td>...</td>\n",
       "      <td>0.807905</td>\n",
       "      <td>0.001392</td>\n",
       "      <td>6</td>\n",
       "      <td>0.810536</td>\n",
       "      <td>0.808929</td>\n",
       "      <td>0.808452</td>\n",
       "      <td>0.806607</td>\n",
       "      <td>0.808810</td>\n",
       "      <td>0.808667</td>\n",
       "      <td>0.001255</td>\n",
       "    </tr>\n",
       "  </tbody>\n",
       "</table>\n",
       "<p>6 rows × 21 columns</p>\n",
       "</div>"
      ],
      "text/plain": [
       "   mean_fit_time  std_fit_time  mean_score_time  std_score_time  \\\n",
       "0       1.986363      0.039614         0.043971        0.000070   \n",
       "1       1.880680      0.045419         0.042396        0.002408   \n",
       "2       1.696867      0.018691         0.039117        0.001342   \n",
       "3       1.627109      0.045544         0.038544        0.000968   \n",
       "4       1.651069      0.105790         0.036569        0.000735   \n",
       "5       1.475858      0.036046         0.036152        0.001013   \n",
       "\n",
       "  param_min_samples_leaf                     params  split0_test_score  \\\n",
       "0                    100  {'min_samples_leaf': 100}           0.818333   \n",
       "1                    150  {'min_samples_leaf': 150}           0.808571   \n",
       "2                    200  {'min_samples_leaf': 200}           0.808333   \n",
       "3                    250  {'min_samples_leaf': 250}           0.807619   \n",
       "4                    300  {'min_samples_leaf': 300}           0.805238   \n",
       "5                    350  {'min_samples_leaf': 350}           0.805714   \n",
       "\n",
       "   split1_test_score  split2_test_score  split3_test_score  ...  \\\n",
       "0           0.819524           0.812857           0.820000  ...   \n",
       "1           0.813571           0.812381           0.813571  ...   \n",
       "2           0.812143           0.810476           0.813333  ...   \n",
       "3           0.810952           0.810000           0.812619  ...   \n",
       "4           0.812143           0.809048           0.810952  ...   \n",
       "5           0.809524           0.808810           0.806905  ...   \n",
       "\n",
       "   mean_test_score  std_test_score  rank_test_score  split0_train_score  \\\n",
       "0         0.817333        0.002640                1            0.819762   \n",
       "1         0.812476        0.002046                2            0.813393   \n",
       "2         0.811143        0.001686                3            0.812083   \n",
       "3         0.810429        0.001639                4            0.812500   \n",
       "4         0.809524        0.002367                5            0.812083   \n",
       "5         0.807905        0.001392                6            0.810536   \n",
       "\n",
       "   split1_train_score  split2_train_score  split3_train_score  \\\n",
       "0            0.820179            0.819464            0.821012   \n",
       "1            0.813036            0.816369            0.812321   \n",
       "2            0.810238            0.811607            0.809821   \n",
       "3            0.811131            0.811726            0.811369   \n",
       "4            0.811131            0.810060            0.809048   \n",
       "5            0.808929            0.808452            0.806607   \n",
       "\n",
       "   split4_train_score  mean_train_score  std_train_score  \n",
       "0            0.820417          0.820167         0.000536  \n",
       "1            0.818452          0.814714         0.002324  \n",
       "2            0.811429          0.811036         0.000859  \n",
       "3            0.811131          0.811571         0.000513  \n",
       "4            0.809583          0.810381         0.001093  \n",
       "5            0.808810          0.808667         0.001255  \n",
       "\n",
       "[6 rows x 21 columns]"
      ]
     },
     "execution_count": 60,
     "metadata": {},
     "output_type": "execute_result"
    }
   ],
   "source": [
    "score"
   ]
  },
  {
   "cell_type": "code",
   "execution_count": 61,
   "id": "58ef5558",
   "metadata": {},
   "outputs": [
    {
     "data": {
      "image/png": "[encoded data removed]",
      "text/plain": [
       "<Figure size 432x288 with 1 Axes>"
      ]
     },
     "metadata": {
      "needs_background": "light"
     },
     "output_type": "display_data"
    }
   ],
   "source": [
    "plt.figure()\n",
    "min_samples_leaf= range(100, 400, 50)\n",
    "plt.plot(min_samples_leaf,score['mean_train_score'])\n",
    "plt.plot(min_samples_leaf,score['mean_test_score'])\n",
    "plt.show()"
   ]
  },
  {
   "cell_type": "code",
   "execution_count": 62,
   "id": "e7cbf2e0",
   "metadata": {},
   "outputs": [],
   "source": [
    "rf=GridSearchCV(cv=5, estimator=RandomForestClassifier(random_state=1),param_grid={'min_samples_split': range(200, 500, 50)},return_train_score=True, scoring='accuracy')\n",
    "\n"
   ]
  },
  {
   "cell_type": "code",
   "execution_count": 63,
   "id": "3e0f0417",
   "metadata": {},
   "outputs": [
    {
     "data": {
      "text/plain": [
       "GridSearchCV(cv=5, estimator=RandomForestClassifier(random_state=1),\n",
       "             param_grid={'min_samples_split': range(200, 500, 50)},\n",
       "             return_train_score=True, scoring='accuracy')"
      ]
     },
     "execution_count": 63,
     "metadata": {},
     "output_type": "execute_result"
    }
   ],
   "source": [
    "rf.fit(X_train,y_train)"
   ]
  },
  {
   "cell_type": "code",
   "execution_count": 64,
   "id": "46934f4d",
   "metadata": {},
   "outputs": [],
   "source": [
    "score=pd.DataFrame(rf.cv_results_)"
   ]
  },
  {
   "cell_type": "code",
   "execution_count": 65,
   "id": "732df52a",
   "metadata": {},
   "outputs": [
    {
     "data": {
      "text/html": [
       "<div>\n",
       "<style scoped>\n",
       "    .dataframe tbody tr th:only-of-type {\n",
       "        vertical-align: middle;\n",
       "    }\n",
       "\n",
       "    .dataframe tbody tr th {\n",
       "        vertical-align: top;\n",
       "    }\n",
       "\n",
       "    .dataframe thead th {\n",
       "        text-align: right;\n",
       "    }\n",
       "</style>\n",
       "<table border=\"1\" class=\"dataframe\">\n",
       "  <thead>\n",
       "    <tr style=\"text-align: right;\">\n",
       "      <th></th>\n",
       "      <th>mean_fit_time</th>\n",
       "      <th>std_fit_time</th>\n",
       "      <th>mean_score_time</th>\n",
       "      <th>std_score_time</th>\n",
       "      <th>param_min_samples_split</th>\n",
       "      <th>params</th>\n",
       "      <th>split0_test_score</th>\n",
       "      <th>split1_test_score</th>\n",
       "      <th>split2_test_score</th>\n",
       "      <th>split3_test_score</th>\n",
       "      <th>...</th>\n",
       "      <th>mean_test_score</th>\n",
       "      <th>std_test_score</th>\n",
       "      <th>rank_test_score</th>\n",
       "      <th>split0_train_score</th>\n",
       "      <th>split1_train_score</th>\n",
       "      <th>split2_train_score</th>\n",
       "      <th>split3_train_score</th>\n",
       "      <th>split4_train_score</th>\n",
       "      <th>mean_train_score</th>\n",
       "      <th>std_train_score</th>\n",
       "    </tr>\n",
       "  </thead>\n",
       "  <tbody>\n",
       "    <tr>\n",
       "      <th>0</th>\n",
       "      <td>2.686500</td>\n",
       "      <td>0.048924</td>\n",
       "      <td>0.053161</td>\n",
       "      <td>0.001229</td>\n",
       "      <td>200</td>\n",
       "      <td>{'min_samples_split': 200}</td>\n",
       "      <td>0.824048</td>\n",
       "      <td>0.823810</td>\n",
       "      <td>0.819762</td>\n",
       "      <td>0.824286</td>\n",
       "      <td>...</td>\n",
       "      <td>0.821762</td>\n",
       "      <td>0.002945</td>\n",
       "      <td>1</td>\n",
       "      <td>0.824881</td>\n",
       "      <td>0.826488</td>\n",
       "      <td>0.826250</td>\n",
       "      <td>0.825357</td>\n",
       "      <td>0.827321</td>\n",
       "      <td>0.826060</td>\n",
       "      <td>0.000860</td>\n",
       "    </tr>\n",
       "    <tr>\n",
       "      <th>1</th>\n",
       "      <td>2.520125</td>\n",
       "      <td>0.024780</td>\n",
       "      <td>0.049166</td>\n",
       "      <td>0.000383</td>\n",
       "      <td>250</td>\n",
       "      <td>{'min_samples_split': 250}</td>\n",
       "      <td>0.822857</td>\n",
       "      <td>0.824048</td>\n",
       "      <td>0.820238</td>\n",
       "      <td>0.824524</td>\n",
       "      <td>...</td>\n",
       "      <td>0.821667</td>\n",
       "      <td>0.002908</td>\n",
       "      <td>2</td>\n",
       "      <td>0.824167</td>\n",
       "      <td>0.825179</td>\n",
       "      <td>0.824940</td>\n",
       "      <td>0.824048</td>\n",
       "      <td>0.826429</td>\n",
       "      <td>0.824952</td>\n",
       "      <td>0.000856</td>\n",
       "    </tr>\n",
       "    <tr>\n",
       "      <th>2</th>\n",
       "      <td>2.441675</td>\n",
       "      <td>0.031152</td>\n",
       "      <td>0.046606</td>\n",
       "      <td>0.000319</td>\n",
       "      <td>300</td>\n",
       "      <td>{'min_samples_split': 300}</td>\n",
       "      <td>0.822381</td>\n",
       "      <td>0.822857</td>\n",
       "      <td>0.820476</td>\n",
       "      <td>0.824048</td>\n",
       "      <td>...</td>\n",
       "      <td>0.821286</td>\n",
       "      <td>0.002580</td>\n",
       "      <td>3</td>\n",
       "      <td>0.823393</td>\n",
       "      <td>0.824167</td>\n",
       "      <td>0.824405</td>\n",
       "      <td>0.823214</td>\n",
       "      <td>0.825060</td>\n",
       "      <td>0.824048</td>\n",
       "      <td>0.000677</td>\n",
       "    </tr>\n",
       "    <tr>\n",
       "      <th>3</th>\n",
       "      <td>2.633618</td>\n",
       "      <td>0.195236</td>\n",
       "      <td>0.047027</td>\n",
       "      <td>0.000961</td>\n",
       "      <td>350</td>\n",
       "      <td>{'min_samples_split': 350}</td>\n",
       "      <td>0.821905</td>\n",
       "      <td>0.822857</td>\n",
       "      <td>0.820714</td>\n",
       "      <td>0.822619</td>\n",
       "      <td>...</td>\n",
       "      <td>0.821048</td>\n",
       "      <td>0.002090</td>\n",
       "      <td>5</td>\n",
       "      <td>0.822679</td>\n",
       "      <td>0.823571</td>\n",
       "      <td>0.823571</td>\n",
       "      <td>0.822619</td>\n",
       "      <td>0.824583</td>\n",
       "      <td>0.823405</td>\n",
       "      <td>0.000720</td>\n",
       "    </tr>\n",
       "    <tr>\n",
       "      <th>4</th>\n",
       "      <td>2.724467</td>\n",
       "      <td>0.051795</td>\n",
       "      <td>0.046406</td>\n",
       "      <td>0.001387</td>\n",
       "      <td>400</td>\n",
       "      <td>{'min_samples_split': 400}</td>\n",
       "      <td>0.820714</td>\n",
       "      <td>0.822857</td>\n",
       "      <td>0.819762</td>\n",
       "      <td>0.822857</td>\n",
       "      <td>...</td>\n",
       "      <td>0.820571</td>\n",
       "      <td>0.002297</td>\n",
       "      <td>6</td>\n",
       "      <td>0.822560</td>\n",
       "      <td>0.822083</td>\n",
       "      <td>0.823036</td>\n",
       "      <td>0.821905</td>\n",
       "      <td>0.823095</td>\n",
       "      <td>0.822536</td>\n",
       "      <td>0.000483</td>\n",
       "    </tr>\n",
       "    <tr>\n",
       "      <th>5</th>\n",
       "      <td>2.469519</td>\n",
       "      <td>0.220138</td>\n",
       "      <td>0.043481</td>\n",
       "      <td>0.000958</td>\n",
       "      <td>450</td>\n",
       "      <td>{'min_samples_split': 450}</td>\n",
       "      <td>0.821667</td>\n",
       "      <td>0.823571</td>\n",
       "      <td>0.819286</td>\n",
       "      <td>0.823571</td>\n",
       "      <td>...</td>\n",
       "      <td>0.821143</td>\n",
       "      <td>0.002364</td>\n",
       "      <td>4</td>\n",
       "      <td>0.821905</td>\n",
       "      <td>0.821845</td>\n",
       "      <td>0.822976</td>\n",
       "      <td>0.821131</td>\n",
       "      <td>0.822976</td>\n",
       "      <td>0.822167</td>\n",
       "      <td>0.000715</td>\n",
       "    </tr>\n",
       "  </tbody>\n",
       "</table>\n",
       "<p>6 rows × 21 columns</p>\n",
       "</div>"
      ],
      "text/plain": [
       "   mean_fit_time  std_fit_time  mean_score_time  std_score_time  \\\n",
       "0       2.686500      0.048924         0.053161        0.001229   \n",
       "1       2.520125      0.024780         0.049166        0.000383   \n",
       "2       2.441675      0.031152         0.046606        0.000319   \n",
       "3       2.633618      0.195236         0.047027        0.000961   \n",
       "4       2.724467      0.051795         0.046406        0.001387   \n",
       "5       2.469519      0.220138         0.043481        0.000958   \n",
       "\n",
       "  param_min_samples_split                      params  split0_test_score  \\\n",
       "0                     200  {'min_samples_split': 200}           0.824048   \n",
       "1                     250  {'min_samples_split': 250}           0.822857   \n",
       "2                     300  {'min_samples_split': 300}           0.822381   \n",
       "3                     350  {'min_samples_split': 350}           0.821905   \n",
       "4                     400  {'min_samples_split': 400}           0.820714   \n",
       "5                     450  {'min_samples_split': 450}           0.821667   \n",
       "\n",
       "   split1_test_score  split2_test_score  split3_test_score  ...  \\\n",
       "0           0.823810           0.819762           0.824286  ...   \n",
       "1           0.824048           0.820238           0.824524  ...   \n",
       "2           0.822857           0.820476           0.824048  ...   \n",
       "3           0.822857           0.820714           0.822619  ...   \n",
       "4           0.822857           0.819762           0.822857  ...   \n",
       "5           0.823571           0.819286           0.823571  ...   \n",
       "\n",
       "   mean_test_score  std_test_score  rank_test_score  split0_train_score  \\\n",
       "0         0.821762        0.002945                1            0.824881   \n",
       "1         0.821667        0.002908                2            0.824167   \n",
       "2         0.821286        0.002580                3            0.823393   \n",
       "3         0.821048        0.002090                5            0.822679   \n",
       "4         0.820571        0.002297                6            0.822560   \n",
       "5         0.821143        0.002364                4            0.821905   \n",
       "\n",
       "   split1_train_score  split2_train_score  split3_train_score  \\\n",
       "0            0.826488            0.826250            0.825357   \n",
       "1            0.825179            0.824940            0.824048   \n",
       "2            0.824167            0.824405            0.823214   \n",
       "3            0.823571            0.823571            0.822619   \n",
       "4            0.822083            0.823036            0.821905   \n",
       "5            0.821845            0.822976            0.821131   \n",
       "\n",
       "   split4_train_score  mean_train_score  std_train_score  \n",
       "0            0.827321          0.826060         0.000860  \n",
       "1            0.826429          0.824952         0.000856  \n",
       "2            0.825060          0.824048         0.000677  \n",
       "3            0.824583          0.823405         0.000720  \n",
       "4            0.823095          0.822536         0.000483  \n",
       "5            0.822976          0.822167         0.000715  \n",
       "\n",
       "[6 rows x 21 columns]"
      ]
     },
     "execution_count": 65,
     "metadata": {},
     "output_type": "execute_result"
    }
   ],
   "source": [
    "score"
   ]
  },
  {
   "cell_type": "code",
   "execution_count": 66,
   "id": "142b58c5",
   "metadata": {},
   "outputs": [
    {
     "data": {
      "image/png": "[encoded data removed]",
      "text/plain": [
       "<Figure size 432x288 with 1 Axes>"
      ]
     },
     "metadata": {
      "needs_background": "light"
     },
     "output_type": "display_data"
    }
   ],
   "source": [
    "plt.figure()\n",
    "min_samples_split=range(200, 500, 50)\n",
    "plt.plot(min_samples_split,score['mean_train_score'])\n",
    "plt.plot(min_samples_split,score['mean_test_score'])\n",
    "plt.show()"
   ]
  },
  {
   "cell_type": "markdown",
   "id": "21575b8e",
   "metadata": {},
   "source": [
    "# Import Randomizedsearchcv model with randomforsetclassfier hyperperameters"
   ]
  },
  {
   "cell_type": "code",
   "execution_count": 67,
   "id": "183e6cc0",
   "metadata": {},
   "outputs": [],
   "source": [
    "from sklearn.model_selection import RandomizedSearchCV"
   ]
  },
  {
   "cell_type": "code",
   "execution_count": 68,
   "id": "09f116ff",
   "metadata": {},
   "outputs": [],
   "source": [
    "rs=RandomizedSearchCV(estimator=RandomForestClassifier(random_state=1),param_distributions={'max_depth': [4, 8, 10],'max_features': [5, 10],'min_samples_leaf': range(100, 400, 200),'min_samples_split': range(200, 500, 200),'n_estimators': [100, 200, 300]},random_state=1)"
   ]
  },
  {
   "cell_type": "code",
   "execution_count": 69,
   "id": "20acf131",
   "metadata": {},
   "outputs": [
    {
     "data": {
      "text/plain": [
       "RandomizedSearchCV(estimator=RandomForestClassifier(random_state=1),\n",
       "                   param_distributions={'max_depth': [4, 8, 10],\n",
       "                                        'max_features': [5, 10],\n",
       "                                        'min_samples_leaf': range(100, 400, 200),\n",
       "                                        'min_samples_split': range(200, 500, 200),\n",
       "                                        'n_estimators': [100, 200, 300]},\n",
       "                   random_state=1)"
      ]
     },
     "execution_count": 69,
     "metadata": {},
     "output_type": "execute_result"
    }
   ],
   "source": [
    "rs.fit(X_train,y_train)"
   ]
  },
  {
   "cell_type": "code",
   "execution_count": 70,
   "id": "3dd51f19",
   "metadata": {},
   "outputs": [],
   "source": [
    "prediction=rs.predict(X_test)"
   ]
  },
  {
   "cell_type": "code",
   "execution_count": 71,
   "id": "963013e5",
   "metadata": {},
   "outputs": [
    {
     "data": {
      "text/plain": [
       "{'n_estimators': 300,\n",
       " 'min_samples_split': 400,\n",
       " 'min_samples_leaf': 100,\n",
       " 'max_features': 5,\n",
       " 'max_depth': 10}"
      ]
     },
     "execution_count": 71,
     "metadata": {},
     "output_type": "execute_result"
    }
   ],
   "source": [
    "rs.best_params_"
   ]
  },
  {
   "cell_type": "code",
   "execution_count": 72,
   "id": "fb04d750",
   "metadata": {},
   "outputs": [
    {
     "name": "stdout",
     "output_type": "stream",
     "text": [
      "Model accuracy socre is 0.8199\n"
     ]
    }
   ],
   "source": [
    "print('Model accuracy socre is {:.4f}'.format(accuracy_score(y_test,prediction)))"
   ]
  },
  {
   "cell_type": "code",
   "execution_count": 73,
   "id": "3156bbdf",
   "metadata": {},
   "outputs": [],
   "source": [
    "rfc=RandomForestClassifier(max_depth=8, max_features=5, min_samples_leaf=100,min_samples_split=200, n_estimators=300, random_state=1)"
   ]
  },
  {
   "cell_type": "code",
   "execution_count": 74,
   "id": "9d7fc22a",
   "metadata": {},
   "outputs": [
    {
     "data": {
      "text/plain": [
       "RandomForestClassifier(max_depth=8, max_features=5, min_samples_leaf=100,\n",
       "                       min_samples_split=200, n_estimators=300, random_state=1)"
      ]
     },
     "execution_count": 74,
     "metadata": {},
     "output_type": "execute_result"
    }
   ],
   "source": [
    "rfc.fit(X_train,y_train)"
   ]
  },
  {
   "cell_type": "code",
   "execution_count": 75,
   "id": "79c90b57",
   "metadata": {},
   "outputs": [],
   "source": [
    "prediction=rfc.predict(X_test)"
   ]
  },
  {
   "cell_type": "markdown",
   "id": "f18ba6cf",
   "metadata": {},
   "source": [
    "# print the classification report and confusion matrix"
   ]
  },
  {
   "cell_type": "code",
   "execution_count": 76,
   "id": "b762933f",
   "metadata": {},
   "outputs": [
    {
     "name": "stdout",
     "output_type": "stream",
     "text": [
      "              precision    recall  f1-score   support\n",
      "\n",
      "           0       0.84      0.96      0.89      6982\n",
      "           1       0.69      0.35      0.46      2018\n",
      "\n",
      "    accuracy                           0.82      9000\n",
      "   macro avg       0.76      0.65      0.68      9000\n",
      "weighted avg       0.80      0.82      0.80      9000\n",
      "\n"
     ]
    }
   ],
   "source": [
    "print(classification_report(y_test,prediction))"
   ]
  },
  {
   "cell_type": "code",
   "execution_count": 77,
   "id": "116149ba",
   "metadata": {},
   "outputs": [
    {
     "name": "stdout",
     "output_type": "stream",
     "text": [
      "[[6668  314]\n",
      " [1314  704]]\n"
     ]
    }
   ],
   "source": [
    "print(confusion_matrix(y_test,prediction))"
   ]
  },
  {
   "cell_type": "code",
   "execution_count": 78,
   "id": "a2320732",
   "metadata": {},
   "outputs": [
    {
     "name": "stdout",
     "output_type": "stream",
     "text": [
      "The accuracy socre is 0.8191\n"
     ]
    }
   ],
   "source": [
    "print('The accuracy socre is {:.4f}'.format(accuracy_score(y_test,prediction)))"
   ]
  },
  {
   "cell_type": "markdown",
   "id": "17b30ec9",
   "metadata": {},
   "source": [
    "# import  Extratreesclassifier model and find the prediction model score in test and train set"
   ]
  },
  {
   "cell_type": "code",
   "execution_count": 79,
   "id": "b9531db3",
   "metadata": {},
   "outputs": [],
   "source": [
    "from sklearn.ensemble import ExtraTreesClassifier"
   ]
  },
  {
   "cell_type": "code",
   "execution_count": 80,
   "id": "89e5687a",
   "metadata": {},
   "outputs": [],
   "source": [
    "et=ExtraTreesClassifier(random_state=1)"
   ]
  },
  {
   "cell_type": "code",
   "execution_count": 81,
   "id": "f97de104",
   "metadata": {},
   "outputs": [
    {
     "data": {
      "text/plain": [
       "ExtraTreesClassifier(random_state=1)"
      ]
     },
     "execution_count": 81,
     "metadata": {},
     "output_type": "execute_result"
    }
   ],
   "source": [
    "et.fit(X_train,y_train)"
   ]
  },
  {
   "cell_type": "code",
   "execution_count": 82,
   "id": "40042843",
   "metadata": {},
   "outputs": [],
   "source": [
    "prediction=et.predict(X_test)"
   ]
  },
  {
   "cell_type": "code",
   "execution_count": 83,
   "id": "0acdfd94",
   "metadata": {},
   "outputs": [
    {
     "name": "stdout",
     "output_type": "stream",
     "text": [
      "              precision    recall  f1-score   support\n",
      "\n",
      "           0       0.84      0.95      0.89      6982\n",
      "           1       0.66      0.36      0.47      2018\n",
      "\n",
      "    accuracy                           0.82      9000\n",
      "   macro avg       0.75      0.65      0.68      9000\n",
      "weighted avg       0.80      0.82      0.79      9000\n",
      "\n"
     ]
    }
   ],
   "source": [
    "print(classification_report(y_test,prediction))"
   ]
  },
  {
   "cell_type": "code",
   "execution_count": 84,
   "id": "78ba6a51",
   "metadata": {},
   "outputs": [
    {
     "name": "stdout",
     "output_type": "stream",
     "text": [
      "[[6606  376]\n",
      " [1284  734]]\n"
     ]
    }
   ],
   "source": [
    "print(confusion_matrix(y_test,prediction))"
   ]
  },
  {
   "cell_type": "code",
   "execution_count": 85,
   "id": "4da14514",
   "metadata": {},
   "outputs": [
    {
     "name": "stdout",
     "output_type": "stream",
     "text": [
      "The accuracy socre is 0.8156\n"
     ]
    }
   ],
   "source": [
    "print('The accuracy socre is {:.4f}'.format(accuracy_score(y_test,prediction)))"
   ]
  },
  {
   "cell_type": "code",
   "execution_count": 86,
   "id": "27bb5d66",
   "metadata": {},
   "outputs": [
    {
     "data": {
      "text/plain": [
       "{'n_estimators': 300,\n",
       " 'min_samples_split': 400,\n",
       " 'min_samples_leaf': 100,\n",
       " 'max_features': 5,\n",
       " 'max_depth': 10}"
      ]
     },
     "execution_count": 86,
     "metadata": {},
     "output_type": "execute_result"
    }
   ],
   "source": [
    "rs.best_params_"
   ]
  },
  {
   "cell_type": "code",
   "execution_count": 87,
   "id": "42b3f1ea",
   "metadata": {},
   "outputs": [],
   "source": [
    "rt=ExtraTreesClassifier(max_depth=10, max_features=10, min_samples_leaf=300, min_samples_split=400, n_estimators=300, random_state=1)"
   ]
  },
  {
   "cell_type": "code",
   "execution_count": 88,
   "id": "d31fc129",
   "metadata": {},
   "outputs": [
    {
     "data": {
      "text/plain": [
       "ExtraTreesClassifier(max_depth=10, max_features=10, min_samples_leaf=300,\n",
       "                     min_samples_split=400, n_estimators=300, random_state=1)"
      ]
     },
     "execution_count": 88,
     "metadata": {},
     "output_type": "execute_result"
    }
   ],
   "source": [
    "rt.fit(X_train,y_train)"
   ]
  },
  {
   "cell_type": "code",
   "execution_count": 89,
   "id": "095e3536",
   "metadata": {},
   "outputs": [],
   "source": [
    "prediction=rs.predict(X_test)"
   ]
  },
  {
   "cell_type": "markdown",
   "id": "dbfaa740",
   "metadata": {},
   "source": [
    "# Print the accuracy_score of the extratreeclassifier"
   ]
  },
  {
   "cell_type": "code",
   "execution_count": 90,
   "id": "b2a7e27a",
   "metadata": {},
   "outputs": [
    {
     "name": "stdout",
     "output_type": "stream",
     "text": [
      "0.8198888888888889\n"
     ]
    }
   ],
   "source": [
    "print(accuracy_score(y_test,prediction))"
   ]
  },
  {
   "cell_type": "code",
   "execution_count": null,
   "id": "d74e166e",
   "metadata": {},
   "outputs": [],
   "source": []
  }
 ],
 "metadata": {
  "kernelspec": {
   "display_name": "Python 3 (ipykernel)",
   "language": "python",
   "name": "python3"
  },
  "language_info": {
   "codemirror_mode": {
    "name": "ipython",
    "version": 3
   },
   "file_extension": ".py",
   "mimetype": "text/x-python",
   "name": "python",
   "nbconvert_exporter": "python",
   "pygments_lexer": "ipython3",
   "version": "3.9.7"
  }
 },
 "nbformat": 4,
 "nbformat_minor": 5
}
